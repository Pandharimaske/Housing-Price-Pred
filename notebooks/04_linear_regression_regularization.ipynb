{
 "cells": [
  {
   "cell_type": "code",
   "execution_count": 1,
   "id": "d46f111a",
   "metadata": {},
   "outputs": [],
   "source": [
    "# ================================================\n",
    "# 1. Imports\n",
    "# ================================================\n",
    "import pandas as pd\n",
    "from sklearn.preprocessing import StandardScaler\n",
    "from sklearn.linear_model import LinearRegression, Ridge, Lasso, ElasticNet\n",
    "from sklearn.metrics import mean_absolute_error, mean_squared_error, r2_score\n",
    "import numpy as np"
   ]
  },
  {
   "cell_type": "code",
   "execution_count": 2,
   "id": "33adecba",
   "metadata": {},
   "outputs": [],
   "source": [
    "# ============================================\n",
    "# 2. Load datasets\n",
    "# ============================================\n",
    "train_df = pd.read_csv(\"/Users/pandhari/Desktop/Housing-Price-Pred/data/processed/feature_engineered_train.csv\")\n",
    "eval_df = pd.read_csv(\"/Users/pandhari/Desktop/Housing-Price-Pred/data/processed/feature_engineered_eval.csv\")"
   ]
  },
  {
   "cell_type": "code",
   "execution_count": 3,
   "id": "10ab28da",
   "metadata": {},
   "outputs": [
    {
     "data": {
      "text/plain": [
       "'\\n# ================================================\\n# 3. Drop high VIF features (both train + eval)\\n# ================================================\\nhigh_vif_features = [\\n    \"median_sale_price\" #highest correlation to \\'price\\' => data leakage\\n]\\ntrain_df.drop(columns=high_vif_features, inplace=True)\\neval_df.drop(columns=high_vif_features, inplace=True)\\n'"
      ]
     },
     "execution_count": 3,
     "metadata": {},
     "output_type": "execute_result"
    }
   ],
   "source": [
    "'''\n",
    "# ================================================\n",
    "# 3. Drop high VIF features (both train + eval)\n",
    "# ================================================\n",
    "high_vif_features = [\n",
    "    \"median_sale_price\" #highest correlation to 'price' => data leakage\n",
    "]\n",
    "train_df.drop(columns=high_vif_features, inplace=True)\n",
    "eval_df.drop(columns=high_vif_features, inplace=True)\n",
    "'''"
   ]
  },
  {
   "cell_type": "code",
   "execution_count": 4,
   "id": "d6fa9496",
   "metadata": {},
   "outputs": [],
   "source": [
    "# ================================================\n",
    "# 4. Define target & features\n",
    "# ================================================\n",
    "target = \"price\"\n",
    "X_train = train_df.drop(columns=[target])\n",
    "y_train = train_df[target]\n",
    "\n",
    "X_eval = eval_df.drop(columns=[target])\n",
    "y_eval = eval_df[target]"
   ]
  },
  {
   "cell_type": "code",
   "execution_count": 5,
   "id": "2e04e6db",
   "metadata": {},
   "outputs": [],
   "source": [
    "# ================================================\n",
    "# 5. Standardization (fit on train, transform eval)\n",
    "# ================================================\n",
    "scaler = StandardScaler()\n",
    "X_train_scaled = scaler.fit_transform(X_train)\n",
    "X_eval_scaled  = scaler.transform(X_eval)"
   ]
  },
  {
   "cell_type": "code",
   "execution_count": 6,
   "id": "ab94d767",
   "metadata": {},
   "outputs": [
    {
     "name": "stdout",
     "output_type": "stream",
     "text": [
      "Linear Regression:\n",
      " MAE: 74203.49770219463\n",
      " RMSE: 152155.27628552215\n",
      " R²: 0.8210893472596027\n"
     ]
    }
   ],
   "source": [
    "# ================================================\n",
    "# 6. Train & Evaluate Models\n",
    "# ================================================\n",
    "\n",
    "# --- Linear Regression ---\n",
    "lr = LinearRegression()\n",
    "lr.fit(X_train_scaled, y_train)\n",
    "y_pred_lr = lr.predict(X_eval_scaled)\n",
    "\n",
    "print(\"Linear Regression:\")\n",
    "print(\" MAE:\", mean_absolute_error(y_eval, y_pred_lr))\n",
    "print(\" RMSE:\", np.sqrt(mean_squared_error(y_eval, y_pred_lr)))\n",
    "print(\" R²:\", r2_score(y_eval, y_pred_lr))"
   ]
  },
  {
   "cell_type": "code",
   "execution_count": 7,
   "id": "63ecb46e",
   "metadata": {},
   "outputs": [
    {
     "name": "stdout",
     "output_type": "stream",
     "text": [
      "\n",
      "Ridge Regression:\n",
      " MAE: 74205.59074196489\n",
      " RMSE: 152157.52036035206\n",
      " R²: 0.8210840698632071\n"
     ]
    }
   ],
   "source": [
    "# --- Ridge Regression ---\n",
    "ridge = Ridge(alpha=1.0)\n",
    "ridge.fit(X_train_scaled, y_train)\n",
    "y_pred_ridge = ridge.predict(X_eval_scaled)\n",
    "\n",
    "print(\"\\nRidge Regression:\")\n",
    "print(\" MAE:\", mean_absolute_error(y_eval, y_pred_ridge))\n",
    "print(\" RMSE:\", np.sqrt(mean_squared_error(y_eval, y_pred_ridge)))\n",
    "print(\" R²:\", r2_score(y_eval, y_pred_ridge))"
   ]
  },
  {
   "cell_type": "code",
   "execution_count": 8,
   "id": "8e4e2c5c",
   "metadata": {},
   "outputs": [
    {
     "name": "stdout",
     "output_type": "stream",
     "text": [
      "\n",
      "Lasso Regression:\n",
      " MAE: 74828.82229247181\n",
      " RMSE: 152579.24304881\n",
      " R²: 0.8200909218381185\n"
     ]
    },
    {
     "name": "stderr",
     "output_type": "stream",
     "text": [
      "/Users/pandhari/Desktop/Housing-Price-Pred/.venv/lib/python3.11/site-packages/sklearn/linear_model/_coordinate_descent.py:695: ConvergenceWarning: Objective did not converge. You might want to increase the number of iterations, check the scale of the features or consider increasing regularisation. Duality gap: 5.034e+15, tolerance: 5.250e+12\n",
      "  model = cd_fast.enet_coordinate_descent(\n"
     ]
    }
   ],
   "source": [
    "# --- Lasso Regression ---\n",
    "lasso = Lasso(alpha=0.1)\n",
    "lasso.fit(X_train_scaled, y_train)\n",
    "y_pred_lasso = lasso.predict(X_eval_scaled)\n",
    "\n",
    "print(\"\\nLasso Regression:\")\n",
    "print(\" MAE:\", mean_absolute_error(y_eval, y_pred_lasso))\n",
    "print(\" RMSE:\", np.sqrt(mean_squared_error(y_eval, y_pred_lasso)))\n",
    "print(\" R²:\", r2_score(y_eval, y_pred_lasso))"
   ]
  },
  {
   "cell_type": "code",
   "execution_count": 9,
   "id": "37611e8e",
   "metadata": {},
   "outputs": [
    {
     "name": "stdout",
     "output_type": "stream",
     "text": [
      "\n",
      "ElasticNet Regression:\n",
      " MAE: 73488.99644769263\n",
      " RMSE: 155320.76771139418\n",
      " R²: 0.8135676717703493\n"
     ]
    }
   ],
   "source": [
    "# --- ElasticNet ---\n",
    "elastic = ElasticNet(alpha=0.1, l1_ratio=0.5)\n",
    "elastic.fit(X_train_scaled, y_train)\n",
    "y_pred_elastic = elastic.predict(X_eval_scaled)\n",
    "\n",
    "print(\"\\nElasticNet Regression:\")\n",
    "print(\" MAE:\", mean_absolute_error(y_eval, y_pred_elastic))\n",
    "print(\" RMSE:\", np.sqrt(mean_squared_error(y_eval, y_pred_elastic)))\n",
    "print(\" R²:\", r2_score(y_eval, y_pred_elastic))"
   ]
  }
 ],
 "metadata": {
  "kernelspec": {
   "display_name": "housing-regression-mle",
   "language": "python",
   "name": "python3"
  },
  "language_info": {
   "codemirror_mode": {
    "name": "ipython",
    "version": 3
   },
   "file_extension": ".py",
   "mimetype": "text/x-python",
   "name": "python",
   "nbconvert_exporter": "python",
   "pygments_lexer": "ipython3",
   "version": "3.11.7"
  }
 },
 "nbformat": 4,
 "nbformat_minor": 5
}
